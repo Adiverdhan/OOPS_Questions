{
 "cells": [
  {
   "cell_type": "markdown",
   "id": "0a8e5c32-e00f-4c2d-8648-0dcba78a2afa",
   "metadata": {},
   "source": [
    "Problem 1: Bank Account Create a class representing a bank account with attributes like account number, account holder name, and balance. Implement methods to deposit and withdraw money from the account."
   ]
  },
  {
   "cell_type": "code",
   "execution_count": 5,
   "id": "76e82dc8-2be1-4ab2-9195-9604fea74b95",
   "metadata": {},
   "outputs": [
    {
     "name": "stdout",
     "output_type": "stream",
     "text": [
      "Account Number: 12345\n",
      "Account Holder: John Doe\n",
      "Balance: 1000\n",
      "Deposited 500. New balance: 1500\n",
      "Withdrew 200. New balance: 1300\n",
      "Invalid withdrawal amount. Make sure you have sufficient balance.\n",
      "1300\n"
     ]
    }
   ],
   "source": [
    "class BankAccount:\n",
    "    def __init__(self, account_number, account_holder_name, balance=0):\n",
    "        self.account_number = account_number\n",
    "        self.account_holder_name = account_holder_name\n",
    "        self.balance = balance\n",
    "\n",
    "    def deposit(self, amount):\n",
    "        if amount > 0:\n",
    "            self.balance += amount\n",
    "            print(f\"Deposited {amount}. New balance: {self.balance}\")\n",
    "        else:\n",
    "            print(\"Invalid deposit amount. Amount must be greater than 0.\")\n",
    "\n",
    "    def withdraw(self, amount):\n",
    "        if 0 < amount <= self.balance:\n",
    "            self.balance -= amount\n",
    "            print(f\"Withdrew {amount}. New balance: {self.balance}\")\n",
    "        else:\n",
    "            print(\"Invalid withdrawal amount. Make sure you have sufficient balance.\")\n",
    "\n",
    "    def get_balance(self):\n",
    "        return self.balance\n",
    "\n",
    "    def __str__(self):\n",
    "        return f\"Account Number: {self.account_number}\\nAccount Holder: {self.account_holder_name}\\nBalance: {self.balance}\"\n",
    "\n",
    "\n",
    "account1 = BankAccount(\"12345\", \"John Doe\", 1000)\n",
    "print(account1)\n",
    "\n",
    "account1.deposit(500)\n",
    "account1.withdraw(200)\n",
    "account1.withdraw(1500)\n",
    "\n",
    "print(account1.get_balance())\n"
   ]
  },
  {
   "cell_type": "markdown",
   "id": "d7ca6c42-7c64-48f4-8feb-7edef8eb03cd",
   "metadata": {},
   "source": [
    "Problem 2: Employee Management Create a class representing an employee with attributes like employee ID, name, and salary. Implement methods to calculate the yearly bonus and display employee details."
   ]
  },
  {
   "cell_type": "code",
   "execution_count": 7,
   "id": "de027120-3098-46ff-9765-bd13903181f0",
   "metadata": {},
   "outputs": [
    {
     "name": "stdout",
     "output_type": "stream",
     "text": [
      "Employee ID: 1\n",
      "Name: John Doe\n",
      "Salary: 100000.00\n",
      "Yearly Bonus: 10000.00\n",
      "\n",
      "Employee ID: 2\n",
      "Name: Jane Smith\n",
      "Salary: 160000.00\n",
      "Yearly Bonus: 24000.00\n"
     ]
    }
   ],
   "source": [
    "class Employee:\n",
    "    def __init__(self, employee_id, name, salary):\n",
    "        self.employee_id = employee_id\n",
    "        self.name = name\n",
    "        self.salary = salary\n",
    "\n",
    "    def calculate_yearly_bonus(self, bonus_percentage):\n",
    "        if 0 <= bonus_percentage <= 100:\n",
    "            bonus = (bonus_percentage / 100) * self.salary\n",
    "            return bonus\n",
    "        else:\n",
    "            return 0\n",
    "\n",
    "    def display_employee_details(self):\n",
    "        print(f\"Employee ID: {self.employee_id}\")\n",
    "        print(f\"Name: {self.name}\")\n",
    "        print(f\"Salary: {self.salary:.2f}\")\n",
    "\n",
    "if __name__ == \"__main__\":\n",
    "    employee1 = Employee(1, \"John Doe\", 100000)\n",
    "    employee2 = Employee(2, \"Jane Smith\", 160000)\n",
    "    employee1.display_employee_details()\n",
    "    bonus = employee1.calculate_yearly_bonus(10)\n",
    "    print(f\"Yearly Bonus: {bonus:.2f}\\n\")\n",
    "    employee2.display_employee_details()\n",
    "    bonus = employee2.calculate_yearly_bonus(15)\n",
    "    print(f\"Yearly Bonus: {bonus:.2f}\")\n"
   ]
  },
  {
   "cell_type": "markdown",
   "id": "4afa80d3-b062-4c5d-93ec-b76b7221f252",
   "metadata": {},
   "source": [
    "Problem 3: Vehicle Rental Create a class representing a vehicle rental system. Implement methods to rent a vehicle, return a vehicle, and display available vehicles."
   ]
  },
  {
   "cell_type": "code",
   "execution_count": 1,
   "id": "07b13b59-b9a4-4552-b3ae-10da2015ab6d",
   "metadata": {},
   "outputs": [
    {
     "name": "stdout",
     "output_type": "stream",
     "text": [
      "Vehicle V1 (Sedan) added to the rental system.\n",
      "Vehicle V2 (SUV) added to the rental system.\n",
      "Vehicle V3 (Truck) added to the rental system.\n",
      "Available Vehicles:\n",
      "Vehicle V1 (Sedan)\n",
      "Vehicle V2 (SUV)\n",
      "Vehicle V3 (Truck)\n",
      "Vehicle V2 rented successfully.\n",
      "Available Vehicles:\n",
      "Vehicle V1 (Sedan)\n",
      "Vehicle V3 (Truck)\n",
      "Vehicle V2 (SUV) returned successfully.\n",
      "Available Vehicles:\n",
      "Vehicle V1 (Sedan)\n",
      "Vehicle V3 (Truck)\n",
      "Vehicle V2 (SUV)\n"
     ]
    }
   ],
   "source": [
    "class VehicleRental:\n",
    "    def __init__(self):\n",
    "        self.available_vehicles = {}\n",
    "\n",
    "    def add_vehicle(self, vehicle_id, vehicle_type):\n",
    "        if vehicle_id not in self.available_vehicles:\n",
    "            self.available_vehicles[vehicle_id] = vehicle_type\n",
    "            print(f\"Vehicle {vehicle_id} ({vehicle_type}) added to the rental system.\")\n",
    "        else:\n",
    "            print(f\"Vehicle {vehicle_id} is already in the rental system.\")\n",
    "\n",
    "    def rent_vehicle(self, vehicle_id):\n",
    "        if vehicle_id in self.available_vehicles:\n",
    "            del self.available_vehicles[vehicle_id]\n",
    "            print(f\"Vehicle {vehicle_id} rented successfully.\")\n",
    "        else:\n",
    "            print(f\"Vehicle {vehicle_id} is not available for rent.\")\n",
    "\n",
    "    def return_vehicle(self, vehicle_id, vehicle_type):\n",
    "        self.available_vehicles[vehicle_id] = vehicle_type\n",
    "        print(f\"Vehicle {vehicle_id} ({vehicle_type}) returned successfully.\")\n",
    "\n",
    "    def display_available_vehicles(self):\n",
    "        if not self.available_vehicles:\n",
    "            print(\"No vehicles available for rent.\")\n",
    "        else:\n",
    "            print(\"Available Vehicles:\")\n",
    "            for vehicle_id, vehicle_type in self.available_vehicles.items():\n",
    "                print(f\"Vehicle {vehicle_id} ({vehicle_type})\")\n",
    "\n",
    "if __name__ == \"__main__\":\n",
    "    rental_system = VehicleRental()\n",
    "\n",
    "    rental_system.add_vehicle(\"V1\", \"Sedan\")\n",
    "    rental_system.add_vehicle(\"V2\", \"SUV\")\n",
    "    rental_system.add_vehicle(\"V3\", \"Truck\")\n",
    "\n",
    "    rental_system.display_available_vehicles()\n",
    "\n",
    "    rental_system.rent_vehicle(\"V2\")\n",
    "    rental_system.display_available_vehicles()\n",
    "\n",
    "    rental_system.return_vehicle(\"V2\", \"SUV\")\n",
    "    rental_system.display_available_vehicles()\n"
   ]
  },
  {
   "cell_type": "markdown",
   "id": "d1e9c201-2f46-4b7b-bd58-f4d31174247e",
   "metadata": {},
   "source": [
    "Problem 4: Library Catalog Create classes representing a library and a book. Implement methods to add books to the library, borrow books, and display available books."
   ]
  },
  {
   "cell_type": "code",
   "execution_count": 2,
   "id": "e9b52ca3-58d9-42f0-8dc3-743b2cf89ba0",
   "metadata": {},
   "outputs": [
    {
     "name": "stdout",
     "output_type": "stream",
     "text": [
      "Book ID: 1\n",
      "Title: The Great Gatsby\n",
      "Author: F. Scott Fitzgerald\n",
      "Status: Available\n",
      "Book ID: 2\n",
      "Title: To Kill a Mockingbird\n",
      "Author: Harper Lee\n",
      "Status: Available\n",
      "Book ID: 3\n",
      "Title: 1984\n",
      "Author: George Orwell\n",
      "Status: Available\n",
      "Book 'The Great Gatsby' by F. Scott Fitzgerald has been borrowed.\n",
      "Book 'To Kill a Mockingbird' by Harper Lee has been borrowed.\n",
      "Book 'To Kill a Mockingbird' is already borrowed.\n",
      "Book ID: 3\n",
      "Title: 1984\n",
      "Author: George Orwell\n",
      "Status: Available\n",
      "Book 'To Kill a Mockingbird' has been returned.\n",
      "Book ID: 2\n",
      "Title: To Kill a Mockingbird\n",
      "Author: Harper Lee\n",
      "Status: Available\n",
      "Book ID: 3\n",
      "Title: 1984\n",
      "Author: George Orwell\n",
      "Status: Available\n"
     ]
    }
   ],
   "source": [
    "class Book:\n",
    "    def __init__(self, title, author, book_id):\n",
    "        self.title = title\n",
    "        self.author = author\n",
    "        self.book_id = book_id\n",
    "        self.is_borrowed = False\n",
    "\n",
    "    def borrow(self):\n",
    "        if not self.is_borrowed:\n",
    "            self.is_borrowed = True\n",
    "            return f\"Book '{self.title}' by {self.author} has been borrowed.\"\n",
    "        else:\n",
    "            return f\"Book '{self.title}' is already borrowed.\"\n",
    "\n",
    "    def return_book(self):\n",
    "        if self.is_borrowed:\n",
    "            self.is_borrowed = False\n",
    "            return f\"Book '{self.title}' has been returned.\"\n",
    "        else:\n",
    "            return f\"Book '{self.title}' is not currently borrowed.\"\n",
    "\n",
    "    def __str__(self):\n",
    "        status = \"Available\" if not self.is_borrowed else \"Borrowed\"\n",
    "        return f\"Book ID: {self.book_id}\\nTitle: {self.title}\\nAuthor: {self.author}\\nStatus: {status}\"\n",
    "\n",
    "class Library:\n",
    "    def __init__(self):\n",
    "        self.books = {}\n",
    "\n",
    "    def add_book(self, title, author, book_id):\n",
    "        if book_id not in self.books:\n",
    "            book = Book(title, author, book_id)\n",
    "            self.books[book_id] = book\n",
    "            return f\"Book '{title}' has been added to the library.\"\n",
    "        else:\n",
    "            return f\"Book with ID {book_id} already exists in the library.\"\n",
    "\n",
    "    def display_available_books(self):\n",
    "        available_books = [book for book in self.books.values() if not book.is_borrowed]\n",
    "        if not available_books:\n",
    "            return \"No books are currently available in the library.\"\n",
    "        else:\n",
    "            return \"\\n\".join([str(book) for book in available_books])\n",
    "\n",
    "if __name__ == \"__main__\":\n",
    "    library = Library()\n",
    "\n",
    "    library.add_book(\"The Great Gatsby\", \"F. Scott Fitzgerald\", 1)\n",
    "    library.add_book(\"To Kill a Mockingbird\", \"Harper Lee\", 2)\n",
    "    library.add_book(\"1984\", \"George Orwell\", 3)\n",
    "\n",
    "    print(library.display_available_books())\n",
    "\n",
    "    print(library.books[1].borrow())\n",
    "    print(library.books[2].borrow())\n",
    "    print(library.books[2].borrow())\n",
    "\n",
    "    print(library.display_available_books())\n",
    "\n",
    "    print(library.books[2].return_book())\n",
    "    print(library.display_available_books())\n"
   ]
  },
  {
   "cell_type": "markdown",
   "id": "a7cb6532-59ae-4521-8901-d4140e40165c",
   "metadata": {},
   "source": [
    "Problem 5: Product Inventory Create classes representing a product and an inventory system. Implement methods to add products to the inventory, update product quantity, and display available products."
   ]
  },
  {
   "cell_type": "code",
   "execution_count": 4,
   "id": "bfd87a22-cb82-4304-9bf9-3346f4a42334",
   "metadata": {},
   "outputs": [
    {
     "name": "stdout",
     "output_type": "stream",
     "text": [
      "Product ID: 1\n",
      "Name: Laptop\n",
      "Price: $800.00\n",
      "Quantity: 10\n",
      "Product ID: 2\n",
      "Name: Smartphone\n",
      "Price: $400.00\n",
      "Quantity: 15\n",
      "Product ID: 3\n",
      "Name: Tablet\n",
      "Price: $300.00\n",
      "Quantity: 5\n",
      "Updated quantity of Laptop to 8.\n",
      "Updated quantity of Smartphone to 20.\n",
      "Updated quantity of Tablet to 5.\n",
      "Product ID: 1\n",
      "Name: Laptop\n",
      "Price: $800.00\n",
      "Quantity: 8\n",
      "Product ID: 2\n",
      "Name: Smartphone\n",
      "Price: $400.00\n",
      "Quantity: 20\n",
      "Product ID: 3\n",
      "Name: Tablet\n",
      "Price: $300.00\n",
      "Quantity: 5\n"
     ]
    }
   ],
   "source": [
    "class Product:\n",
    "    def __init__(self, product_id, name, price, quantity):\n",
    "        self.product_id = product_id\n",
    "        self.name = name\n",
    "        self.price = price\n",
    "        self.quantity = quantity\n",
    "\n",
    "    def update_quantity(self, new_quantity):\n",
    "        if new_quantity >= 0:\n",
    "            self.quantity = new_quantity\n",
    "            return f\"Updated quantity of {self.name} to {self.quantity}.\"\n",
    "        else:\n",
    "            return \"Quantity cannot be negative.\"\n",
    "\n",
    "    def __str__(self):\n",
    "        return f\"Product ID: {self.product_id}\\nName: {self.name}\\nPrice: ${self.price:.2f}\\nQuantity: {self.quantity}\"\n",
    "\n",
    "class InventorySystem:\n",
    "    def __init__(self):\n",
    "        self.products = {}\n",
    "\n",
    "    def add_product(self, product_id, name, price, quantity):\n",
    "        if product_id not in self.products:\n",
    "            product = Product(product_id, name, price, quantity)\n",
    "            self.products[product_id] = product\n",
    "            return f\"Product '{name}' has been added to the inventory.\"\n",
    "        else:\n",
    "            return f\"Product with ID {product_id} already exists in the inventory.\"\n",
    "\n",
    "    def display_available_products(self):\n",
    "        available_products = [product for product in self.products.values() if product.quantity > 0]\n",
    "        if not available_products:\n",
    "            return \"No products are currently available in the inventory.\"\n",
    "        else:\n",
    "            return \"\\n\".join([str(product) for product in available_products])\n",
    "\n",
    "if __name__ == \"__main__\":\n",
    "    inventory_system = InventorySystem()\n",
    "\n",
    "    inventory_system.add_product(1, \"Laptop\", 800, 10)\n",
    "    inventory_system.add_product(2, \"Smartphone\", 400, 15)\n",
    "    inventory_system.add_product(3, \"Tablet\", 300, 5)\n",
    "\n",
    "    print(inventory_system.display_available_products())\n",
    "\n",
    "    print(inventory_system.products[1].update_quantity(8))\n",
    "    print(inventory_system.products[2].update_quantity(20))\n",
    "    print(inventory_system.products[3].update_quantity(5))\n",
    "\n",
    "    print(inventory_system.display_available_products())\n"
   ]
  },
  {
   "cell_type": "markdown",
   "id": "059031d0-a4a7-48db-acbf-c6431bafac79",
   "metadata": {},
   "source": [
    "Problem 6: Shape Calculation Create a class representing a shape with attributes like length, width, and height. Implement methods to calculate the area and perimeter of the shape."
   ]
  },
  {
   "cell_type": "code",
   "execution_count": 6,
   "id": "ffaf8d59-870c-4598-99d9-87f481e3ba37",
   "metadata": {},
   "outputs": [
    {
     "name": "stdout",
     "output_type": "stream",
     "text": [
      "Rectangle Area: 20\n",
      "Rectangle Perimeter: 18\n",
      "Triangle Area: 6.0\n"
     ]
    }
   ],
   "source": [
    "class Shape:\n",
    "    def __init__(self, length, width, height=None):\n",
    "        self.length = length\n",
    "        self.width = width\n",
    "        self.height = height\n",
    "\n",
    "class Rectangle(Shape):\n",
    "    def area(self):\n",
    "        return self.length * self.width\n",
    "\n",
    "    def perimeter(self):\n",
    "        return 2 * (self.length + self.width)\n",
    "\n",
    "class Triangle(Shape):\n",
    "    def area(self):\n",
    "        s = (self.length + self.width + self.height) / 2\n",
    "        return (s * (s - self.length) * (s - self.width) * (s - self.height)) ** 0.5\n",
    "rectangle = Rectangle(5, 4)\n",
    "triangle = Triangle(3, 4, 5)\n",
    "\n",
    "print(\"Rectangle Area:\", rectangle.area())\n",
    "print(\"Rectangle Perimeter:\", rectangle.perimeter())\n",
    "print(\"Triangle Area:\", triangle.area())\n"
   ]
  },
  {
   "cell_type": "markdown",
   "id": "de0345a4-b110-42a9-a529-390a77e73bad",
   "metadata": {},
   "source": [
    "Problem 7: Student Management Create a class representing a student with attributes like student ID, name, and grades. Implement methods to calculate the average grade and display student details."
   ]
  },
  {
   "cell_type": "code",
   "execution_count": 7,
   "id": "2b102c78-c9dd-4032-b484-8ab15d657bce",
   "metadata": {},
   "outputs": [
    {
     "name": "stdout",
     "output_type": "stream",
     "text": [
      "Student ID: 12765\n",
      "Name: John Doe\n",
      "Grades: [95, 70, 74]\n",
      "Average Grade: 79.66666666666667\n",
      "\n",
      "Student ID: 61490\n",
      "Name: Jane Smith\n",
      "Grades: [82, 86, 62]\n",
      "Average Grade: 76.66666666666667\n"
     ]
    }
   ],
   "source": [
    "class Student:\n",
    "    def __init__(self, student_id, name, grades=None):\n",
    "        self.student_id = student_id\n",
    "        self.name = name\n",
    "        self.grades = grades if grades is not None else []\n",
    "\n",
    "    def add_grade(self, grade):\n",
    "        self.grades.append(grade)\n",
    "\n",
    "    def calculate_average_grade(self):\n",
    "        if not self.grades:\n",
    "            return 0 \n",
    "        total = sum(self.grades)\n",
    "        return total / len(self.grades)\n",
    "\n",
    "    def display_student_details(self):\n",
    "        print(f\"Student ID: {self.student_id}\")\n",
    "        print(f\"Name: {self.name}\")\n",
    "        print(\"Grades:\", self.grades)\n",
    "        print(f\"Average Grade: {self.calculate_average_grade()}\")\n",
    "student1 = Student(\"12765\", \"John Doe\")\n",
    "student1.add_grade(95)\n",
    "student1.add_grade(70)\n",
    "student1.add_grade(74)\n",
    "\n",
    "student2 = Student(\"61490\", \"Jane Smith\")\n",
    "student2.add_grade(82)\n",
    "student2.add_grade(86)\n",
    "student2.add_grade(62)\n",
    "\n",
    "student1.display_student_details()\n",
    "print()\n",
    "student2.display_student_details()\n"
   ]
  },
  {
   "cell_type": "markdown",
   "id": "53c1a253-f27a-48af-b5e5-27ff41697bd8",
   "metadata": {},
   "source": [
    "Problem 8: Email Management Create a class representing an email with attributes like sender, recipient, and subject. Implement methods to send an email and display email details."
   ]
  },
  {
   "cell_type": "code",
   "execution_count": 14,
   "id": "ad8e046a-5bd2-4d98-99a0-962278a0a1fe",
   "metadata": {},
   "outputs": [
    {
     "name": "stdout",
     "output_type": "stream",
     "text": [
      "Sender: johnathon@example.com\n",
      "Recipient: jany@example.com\n",
      "Subject: Project update\n",
      "Message: Hi Jany, I have some updates on the project. Let's discuss it in our meeting.\n",
      "Sending the e-mail\n",
      "E-mail Sent!\n",
      "E-mail has already been sent.\n"
     ]
    }
   ],
   "source": [
    "class Email:\n",
    "    def __init__(self, sender, recipient, subject, message):\n",
    "        self.sender = sender\n",
    "        self.recipient = recipient\n",
    "        self.subject = subject\n",
    "        self.message = message\n",
    "        self.sent = False\n",
    "\n",
    "    def send_email(self):\n",
    "        if not self.sent:\n",
    "            print(\"Sending the e-mail\")\n",
    "            self.sent = True\n",
    "            print(\"E-mail Sent!\")\n",
    "        else:\n",
    "            print(\"E-mail has already been sent.\")\n",
    "\n",
    "    def display_email_details(self):\n",
    "        print(\"Sender:\", self.sender)\n",
    "        print(\"Recipient:\", self.recipient)\n",
    "        print(\"Subject:\", self.subject)\n",
    "        print(\"Message:\", self.message)\n",
    "\n",
    "email = Email(\"johnathon@example.com\", \"jany@example.com\", \"Project update\", \"Hi Jany, I have some updates on the project. Let's discuss it in our meeting.\")\n",
    "email.display_email_details()\n",
    "email.send_email()\n",
    "email.send_email()  \n",
    "\n"
   ]
  },
  {
   "cell_type": "markdown",
   "id": "7dd4b753-ddea-44d1-9c93-6c2b0f7ca701",
   "metadata": {},
   "source": [
    "Problem 9: Social Media Profile Create a class representing a social media profile with attributes like username and posts. Implement methods to add posts, display posts, and search for posts by keyword."
   ]
  },
  {
   "cell_type": "code",
   "execution_count": 15,
   "id": "cc717dfc-878e-41ac-8f57-e602f3e64785",
   "metadata": {},
   "outputs": [
    {
     "name": "stdout",
     "output_type": "stream",
     "text": [
      "Posts by Hathway:\n",
      "Post 1:\n",
      "Hello, this is my first post on this social media platform!\n",
      "\n",
      "Post 2:\n",
      "Just enjoying a beautiful day. #sunnyday\n",
      "\n",
      "Post 3:\n",
      "I love coding in Python. #programming\n",
      "\n",
      "Posts by Hathway containing the keyword 'programming':\n",
      "Post 1:\n",
      "I love coding in Python. #programming\n",
      "\n"
     ]
    }
   ],
   "source": [
    "class SocialMediaProfile:\n",
    "    def __init__(self, username):\n",
    "        self.username = username\n",
    "        self.posts = []\n",
    "\n",
    "    def add_post(self, content):\n",
    "        self.posts.append(content)\n",
    "\n",
    "    def display_posts(self):\n",
    "        if not self.posts:\n",
    "            print(f\"No posts found for {self.username}.\")\n",
    "        else:\n",
    "            print(f\"Posts by {self.username}:\")\n",
    "            for i, post in enumerate(self.posts, start=1):\n",
    "                print(f\"Post {i}:\\n{post}\\n\")\n",
    "\n",
    "    def search_posts_by_keyword(self, keyword):\n",
    "        matching_posts = [post for post in self.posts if keyword in post]\n",
    "        if not matching_posts:\n",
    "            print(f\"No posts found containing the keyword '{keyword}'.\")\n",
    "        else:\n",
    "            print(f\"Posts by {self.username} containing the keyword '{keyword}':\")\n",
    "            for i, post in enumerate(matching_posts, start=1):\n",
    "                print(f\"Post {i}:\\n{post}\\n\")\n",
    "\n",
    "profile = SocialMediaProfile(\"Hathway\")\n",
    "profile.add_post(\"Hello, this is my first post on this social media platform!\")\n",
    "profile.add_post(\"Just enjoying a beautiful day. #sunnyday\")\n",
    "profile.add_post(\"I love coding in Python. #programming\")\n",
    "profile.display_posts()\n",
    "\n",
    "search_keyword = \"programming\"\n",
    "profile.search_posts_by_keyword(search_keyword)\n"
   ]
  },
  {
   "cell_type": "markdown",
   "id": "d25c851f-7940-49b2-aa8b-e5492c1d3a12",
   "metadata": {},
   "source": [
    "Problem 10: ToDo List Create a class representing a ToDo list with attributes like tasks and due dates. Implement methods to add tasks, mark tasks as completed, and display pending tasks."
   ]
  },
  {
   "cell_type": "code",
   "execution_count": 16,
   "id": "235912ed-0b28-4308-852b-c641eb7b3013",
   "metadata": {},
   "outputs": [
    {
     "name": "stdout",
     "output_type": "stream",
     "text": [
      "Pending tasks:\n",
      "1. Task: Buy groceries (Due Date: 2023-09-20)\n",
      "2. Task: Finish project report (Due Date: 2023-10-15)\n",
      "3. Task: Go to the gym (Due Date: 2023-07-30)\n",
      "Pending tasks:\n",
      "1. Task: Buy groceries (Due Date: 2023-09-20)\n",
      "2. Task: Finish project report (Due Date: 2023-10-15)\n",
      "3. Task: Go to the gym (Due Date: 2023-07-30)\n"
     ]
    }
   ],
   "source": [
    "class ToDoList:\n",
    "    def __init__(self):\n",
    "        self.tasks = []\n",
    "\n",
    "    def add_task(self, task, due_date):\n",
    "        self.tasks.append({\"task\": task, \"due_date\": due_date, \"completed\": False})\n",
    "\n",
    "    def mark_task_as_completed(self, task_name):\n",
    "        for task in self.tasks:\n",
    "            if task[\"task\"] == task_name:\n",
    "                task[\"completed\"] = True\n",
    "\n",
    "    def display_pending_tasks(self):\n",
    "        pending_tasks = [task for task in self.tasks if not task[\"completed\"]]\n",
    "        if not pending_tasks:\n",
    "            print(\"No pending tasks.\")\n",
    "        else:\n",
    "            print(\"Pending tasks:\")\n",
    "            for i, task in enumerate(pending_tasks, start=1):\n",
    "                print(f\"{i}. Task: {task['task']} (Due Date: {task['due_date']})\")\n",
    "my_todo_list = ToDoList()\n",
    "my_todo_list.add_task(\"Buy groceries\", \"2023-09-20\")\n",
    "my_todo_list.add_task(\"Finish project report\", \"2023-10-15\")\n",
    "my_todo_list.add_task(\"Go to the gym\", \"2023-07-30\")\n",
    "my_todo_list.display_pending_tasks()\n",
    "my_todo_list.mark_task_as_completed(\"Buy toys\")\n",
    "my_todo_list.display_pending_tasks()\n"
   ]
  },
  {
   "cell_type": "code",
   "execution_count": null,
   "id": "1211c33e-c74e-4ebf-85d5-54f710ecd122",
   "metadata": {},
   "outputs": [],
   "source": []
  }
 ],
 "metadata": {
  "kernelspec": {
   "display_name": "Python 3 (ipykernel)",
   "language": "python",
   "name": "python3"
  },
  "language_info": {
   "codemirror_mode": {
    "name": "ipython",
    "version": 3
   },
   "file_extension": ".py",
   "mimetype": "text/x-python",
   "name": "python",
   "nbconvert_exporter": "python",
   "pygments_lexer": "ipython3",
   "version": "3.10.8"
  }
 },
 "nbformat": 4,
 "nbformat_minor": 5
}
